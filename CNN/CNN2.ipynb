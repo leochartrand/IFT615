{
  "cells": [
    {
      "cell_type": "markdown",
      "metadata": {
        "id": "view-in-github",
        "colab_type": "text"
      },
      "source": [
        "<a href=\"https://colab.research.google.com/github/leochartrand/IFT615/blob/main/CNN/CNN2.ipynb\" target=\"_parent\"><img src=\"https://colab.research.google.com/assets/colab-badge.svg\" alt=\"Open In Colab\"/></a>"
      ]
    },
    {
      "cell_type": "markdown",
      "metadata": {
        "id": "SCdTejS5-OYw"
      },
      "source": [
        "*Cette démonstration est inspirée du cours \"CS50’s Introduction to Artificial Intelligence with Python\" donné à l'Université d'Harvard.*\n",
        "\n",
        "https://cs50.harvard.edu/ai/2024/\n",
        "\n",
        "https://creativecommons.org/licenses/by-nc-sa/4.0/\n",
        "\n",
        "\n",
        "\n"
      ]
    },
    {
      "cell_type": "code",
      "execution_count": 79,
      "metadata": {
        "id": "6i5YbW8fjiRD"
      },
      "outputs": [],
      "source": [
        "import numpy as np\n",
        "from PIL import Image, ImageFilter\n",
        "from skimage.io import imshow\n",
        "import matplotlib.pyplot as plt\n",
        "from IPython.display import display\n",
        "import torch\n",
        "import torch.nn as nn\n",
        "import torchvision\n",
        "from tqdm import tqdm"
      ]
    },
    {
      "cell_type": "markdown",
      "source": [
        "On peut commencer par charger le jeux de données MNIST:"
      ],
      "metadata": {
        "id": "LC2_hFFuVM-b"
      }
    },
    {
      "cell_type": "code",
      "source": [
        "batch_size = 100\n",
        "\n",
        "train_data = torchvision.datasets.MNIST(root = './', train = True,\n",
        "                                        transform = torchvision.transforms.ToTensor(),\n",
        "                                        download = True)\n",
        "\n",
        "train_dataloader = torch.utils.data.DataLoader(dataset = train_data,\n",
        "                                          batch_size = batch_size,\n",
        "                                          shuffle = True)\n",
        "\n",
        "test_data = torchvision.datasets.MNIST(root = './', train = False,\n",
        "                                       transform = torchvision.transforms.ToTensor())\n",
        "\n",
        "test_dataloader = torch.utils.data.DataLoader(dataset = test_data,\n",
        "                                          batch_size = batch_size,\n",
        "                                          shuffle = False)"
      ],
      "metadata": {
        "id": "mjCJokIgIpo1"
      },
      "execution_count": 71,
      "outputs": []
    },
    {
      "cell_type": "markdown",
      "source": [
        "Profitons en pour observer quelques exemples du jeux de données:"
      ],
      "metadata": {
        "id": "4lTpXTTeVT1r"
      }
    },
    {
      "cell_type": "code",
      "source": [
        "index, (ex_data, ex_labels) = next(enumerate(test_dataloader))\n",
        "\n",
        "fig = plt.figure()\n",
        "for i in range(9):\n",
        "  plt.subplot(3,3,i+1)\n",
        "  plt.axis('off')\n",
        "  plt.tight_layout()\n",
        "  plt.imshow(ex_data[i][0], cmap='gray')\n",
        "  plt.title(\"Vérité terrain: %d\"%(ex_labels[i]))\n",
        "fig.show()"
      ],
      "metadata": {
        "id": "2fj4giPeViN_",
        "outputId": "a4121eb0-cc6a-4c7f-f849-7cffd2c58a05",
        "colab": {
          "base_uri": "https://localhost:8080/",
          "height": 487
        }
      },
      "execution_count": 67,
      "outputs": [
        {
          "output_type": "display_data",
          "data": {
            "text/plain": [
              "<Figure size 640x480 with 9 Axes>"
            ],
            "image/png": "[encoded data removed]"
          },
          "metadata": {}
        }
      ]
    },
    {
      "cell_type": "markdown",
      "source": [],
      "metadata": {
        "id": "TAcd5uR1XYSo"
      }
    },
    {
      "cell_type": "code",
      "source": [
        "model = nn.Sequential(\n",
        "\n",
        "    # Couche convolutive. Apprend 32 filtres en utilisant un noyau 3x3\n",
        "    nn.Conv2d(1, 32, (3, 3)),\n",
        "\n",
        "    # Activation ReLU\n",
        "    nn.ReLU(),\n",
        "\n",
        "    # Couche de max-pooling de taille 2x2\n",
        "    nn.MaxPool2d((2, 2)),\n",
        "\n",
        "    # On applatie les données\n",
        "    nn.Flatten(),\n",
        "\n",
        "    # Couche dense\n",
        "    nn.Linear(5408, 128),\n",
        "    nn.ReLU(),\n",
        "\n",
        "    # Couche dense finale avec comme sortie les probabilitées pour les 10 chiffres\n",
        "    nn.Linear(128, 10),\n",
        ")"
      ],
      "metadata": {
        "id": "Q2uuTedIQjZ2"
      },
      "execution_count": 91,
      "outputs": []
    },
    {
      "cell_type": "code",
      "source": [
        "# On instancie un optimiseur qui s'occupe de la descente de gradient\n",
        "optimizer = torch.optim.Adam(model.parameters(), lr=1e-4)\n",
        "\n",
        "# On instancie notre fonction de parte\n",
        "criterion = nn.CrossEntropyLoss()"
      ],
      "metadata": {
        "id": "33kLWRu1mvVw"
      },
      "execution_count": 92,
      "outputs": []
    },
    {
      "cell_type": "markdown",
      "source": [
        "# Entraînons maintenant notre modèle!"
      ],
      "metadata": {
        "id": "KlFHblQqoazW"
      }
    },
    {
      "cell_type": "code",
      "source": [
        "# On garde un historique de l'entraînement pour visualiser nos résultats\n",
        "loss_history = []\n",
        "\n",
        "epochs = 5\n",
        "\n",
        "for epoch in range(epochs):\n",
        "  print(\"Epoch %d/%d\"%(epoch+1, epochs))\n",
        "  progress = tqdm(train_dataloader)\n",
        "  for index, (data, labels) in enumerate(progress):\n",
        "    optimizer.zero_grad()\n",
        "    output = model(data)\n",
        "    loss = criterion(output, labels)\n",
        "    loss.backward()\n",
        "    optimizer.step()\n",
        "    loss_history.append(loss.item())\n",
        "    progress.set_description(\"Loss: %.4f\"%loss.item())"
      ],
      "metadata": {
        "id": "58hXKPAOJm47",
        "outputId": "40aa9d3b-d38f-4a07-b1fa-55dc43d11e52",
        "colab": {
          "base_uri": "https://localhost:8080/"
        }
      },
      "execution_count": 93,
      "outputs": [
        {
          "output_type": "stream",
          "name": "stdout",
          "text": [
            "Epoch 1/10\n"
          ]
        },
        {
          "output_type": "stream",
          "name": "stderr",
          "text": [
            "Loss: 0.3826: 100%|██████████| 600/600 [00:47<00:00, 12.59it/s]\n"
          ]
        },
        {
          "output_type": "stream",
          "name": "stdout",
          "text": [
            "Epoch 2/10\n"
          ]
        },
        {
          "output_type": "stream",
          "name": "stderr",
          "text": [
            "Loss: 0.2038: 100%|██████████| 600/600 [00:48<00:00, 12.44it/s]\n"
          ]
        },
        {
          "output_type": "stream",
          "name": "stdout",
          "text": [
            "Epoch 3/10\n"
          ]
        },
        {
          "output_type": "stream",
          "name": "stderr",
          "text": [
            "Loss: 0.0952: 100%|██████████| 600/600 [00:55<00:00, 10.86it/s]\n"
          ]
        },
        {
          "output_type": "stream",
          "name": "stdout",
          "text": [
            "Epoch 4/10\n"
          ]
        },
        {
          "output_type": "stream",
          "name": "stderr",
          "text": [
            "Loss: 0.1674: 100%|██████████| 600/600 [01:02<00:00,  9.54it/s]\n"
          ]
        },
        {
          "output_type": "stream",
          "name": "stdout",
          "text": [
            "Epoch 5/10\n"
          ]
        },
        {
          "output_type": "stream",
          "name": "stderr",
          "text": [
            "Loss: 0.0696: 100%|██████████| 600/600 [00:47<00:00, 12.58it/s]\n"
          ]
        },
        {
          "output_type": "stream",
          "name": "stdout",
          "text": [
            "Epoch 6/10\n"
          ]
        },
        {
          "output_type": "stream",
          "name": "stderr",
          "text": [
            "Loss: 0.0663: 100%|██████████| 600/600 [00:49<00:00, 12.07it/s]\n"
          ]
        },
        {
          "output_type": "stream",
          "name": "stdout",
          "text": [
            "Epoch 7/10\n"
          ]
        },
        {
          "output_type": "stream",
          "name": "stderr",
          "text": [
            "Loss: 0.0522: 100%|██████████| 600/600 [00:47<00:00, 12.60it/s]\n"
          ]
        },
        {
          "output_type": "stream",
          "name": "stdout",
          "text": [
            "Epoch 8/10\n"
          ]
        },
        {
          "output_type": "stream",
          "name": "stderr",
          "text": [
            "Loss: 0.0302: 100%|██████████| 600/600 [00:51<00:00, 11.75it/s]\n"
          ]
        },
        {
          "output_type": "stream",
          "name": "stdout",
          "text": [
            "Epoch 9/10\n"
          ]
        },
        {
          "output_type": "stream",
          "name": "stderr",
          "text": [
            "Loss: 0.0899: 100%|██████████| 600/600 [00:49<00:00, 12.24it/s]\n"
          ]
        },
        {
          "output_type": "stream",
          "name": "stdout",
          "text": [
            "Epoch 10/10\n"
          ]
        },
        {
          "output_type": "stream",
          "name": "stderr",
          "text": [
            "Loss: 0.0237: 100%|██████████| 600/600 [00:49<00:00, 12.17it/s]\n"
          ]
        }
      ]
    },
    {
      "cell_type": "markdown",
      "source": [
        "On peut visualiser l'apprentissage de notre modèle à l'aide de la librairie ***matplotlib***:"
      ],
      "metadata": {
        "id": "GetjAV9--3ZK"
      }
    },
    {
      "cell_type": "code",
      "source": [
        "plt.plot(range(epochs*len(train_dataloader)), loss_history)\n",
        "plt.xlabel('Batches')\n",
        "plt.ylabel('Loss')\n",
        "plt.title('Loss history')\n",
        "plt.show()"
      ],
      "metadata": {
        "id": "7gNQ9E1o02Tx",
        "outputId": "adaf276a-d30e-4b73-efb8-2f38a081b2e5",
        "colab": {
          "base_uri": "https://localhost:8080/",
          "height": 472
        }
      },
      "execution_count": 97,
      "outputs": [
        {
          "output_type": "display_data",
          "data": {
            "text/plain": [
              "<Figure size 640x480 with 1 Axes>"
            ],
            "image/png": "[encoded data removed]"
          },
          "metadata": {}
        }
      ]
    },
    {
      "cell_type": "markdown",
      "source": [
        "Évaluons maintenant la précision de notre modèle sur le jeu de données de test:"
      ],
      "metadata": {
        "id": "B_UoQpVE_Pni"
      }
    },
    {
      "cell_type": "code",
      "source": [
        "correct = 0\n",
        "total = 0\n",
        "for data, labels in test_dataloader:\n",
        "  output = model(data)\n",
        "  _, predictions = torch.max(output,1)\n",
        "  correct += (predictions == labels).sum()\n",
        "  total += labels.size(0)\n",
        "\n",
        "print('Précision du modèle: %.3f %%' %(100*correct/total))"
      ],
      "metadata": {
        "id": "RXEjWafLJo47",
        "outputId": "975fbcd1-5cd0-441b-f5eb-14a694b8abb4",
        "colab": {
          "base_uri": "https://localhost:8080/"
        }
      },
      "execution_count": 99,
      "outputs": [
        {
          "output_type": "stream",
          "name": "stdout",
          "text": [
            "Précision du modèle: 98.170 %\n"
          ]
        }
      ]
    }
  ],
  "metadata": {
    "colab": {
      "provenance": [],
      "include_colab_link": true
    },
    "kernelspec": {
      "display_name": "Python 3",
      "name": "python3"
    },
    "language_info": {
      "name": "python"
    }
  },
  "nbformat": 4,
  "nbformat_minor": 0
}