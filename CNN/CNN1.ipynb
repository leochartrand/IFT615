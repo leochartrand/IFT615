{
  "cells": [
    {
      "cell_type": "markdown",
      "metadata": {
        "id": "view-in-github",
        "colab_type": "text"
      },
      "source": [
        "<a href=\"https://colab.research.google.com/github/leochartrand/IFT615/blob/main/CNN/CNN1.ipynb\" target=\"_parent\"><img src=\"https://colab.research.google.com/assets/colab-badge.svg\" alt=\"Open In Colab\"/></a>"
      ]
    },
    {
      "cell_type": "markdown",
      "metadata": {
        "id": "SCdTejS5-OYw"
      },
      "source": [
        "*Cette démonstration est inspirée du cours \"CS50’s Introduction to Artificial Intelligence with Python\" donné à l'Université d'Harvard.*\n",
        "\n",
        "https://cs50.harvard.edu/ai/2024/\n",
        "\n",
        "https://creativecommons.org/licenses/by-nc-sa/4.0/\n",
        "\n",
        "\n",
        "\n"
      ]
    },
    {
      "cell_type": "code",
      "execution_count": 1,
      "metadata": {
        "id": "6i5YbW8fjiRD"
      },
      "outputs": [],
      "source": [
        "import numpy as np\n",
        "from PIL import Image, ImageFilter\n",
        "from skimage.io import imshow\n",
        "import matplotlib.pyplot as plt\n",
        "from IPython.display import display"
      ]
    },
    {
      "cell_type": "markdown",
      "metadata": {
        "id": "V0_MishilwwY"
      },
      "source": [
        "Commençons par importer une image..."
      ]
    },
    {
      "cell_type": "code",
      "execution_count": null,
      "metadata": {
        "id": "mLAjFVcGjjJL"
      },
      "outputs": [],
      "source": [
        "!wget https://raw.githubusercontent.com/leochartrand/IFT615/main/CNN/image1.jpg\n",
        "image = Image.open('image1.jpg', 'r').convert(\"RGB\")\n",
        "display(image)"
      ]
    },
    {
      "cell_type": "code",
      "execution_count": null,
      "metadata": {
        "id": "hQ4uNti7k_nS"
      },
      "outputs": [],
      "source": [
        "kernel= np.array(\n",
        "    [[-1, -1, -1],\n",
        "     [-1, 8, -1],\n",
        "     [-1, -1, -1]])\n",
        "plt.imshow(kernel, cmap='gray'); plt.axis('off'); plt.show();"
      ]
    },
    {
      "cell_type": "code",
      "execution_count": null,
      "metadata": {
        "id": "dZuHV1Sgzb--"
      },
      "outputs": [],
      "source": [
        "filtered = image.filter(ImageFilter.Kernel(\n",
        "    size=(3, 3),\n",
        "    kernel=kernel.flatten(),\n",
        "    scale=1\n",
        "))\n",
        "\n",
        "display(filtered)"
      ]
    },
    {
      "cell_type": "markdown",
      "metadata": {
        "id": "mjjpL0G-Cqda"
      },
      "source": [
        "D'autres exemples de noyaux 3x3:"
      ]
    },
    {
      "cell_type": "code",
      "execution_count": null,
      "metadata": {
        "id": "8v0fxhJ2Co6h"
      },
      "outputs": [],
      "source": [
        "vertical= np.array(\n",
        "    [[-1, 2, -1],\n",
        "     [-1, 2, -1],\n",
        "     [-1, 2, -1]])\n",
        "plt.imshow(vertical, cmap='gray'); plt.axis('off'); plt.show();\n",
        "\n",
        "horizontal= np.array(\n",
        "    [[-1, -1, -1],\n",
        "     [2, 2, 2],\n",
        "     [-1, -1, -1]])\n",
        "plt.imshow(horizontal, cmap='gray'); plt.axis('off'); plt.show();"
      ]
    }
  ],
  "metadata": {
    "colab": {
      "provenance": [],
      "include_colab_link": true
    },
    "kernelspec": {
      "display_name": "Python 3",
      "name": "python3"
    },
    "language_info": {
      "name": "python"
    }
  },
  "nbformat": 4,
  "nbformat_minor": 0
}