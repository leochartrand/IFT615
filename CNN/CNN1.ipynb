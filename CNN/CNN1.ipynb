{
  "cells": [
    {
      "cell_type": "markdown",
      "metadata": {
        "colab_type": "text",
        "id": "view-in-github"
      },
      "source": [
        "<a href=\"https://colab.research.google.com/github/leochartrand/IFT615/blob/main/CNN/CNN1.ipynb\" target=\"_parent\"><img src=\"https://colab.research.google.com/assets/colab-badge.svg\" alt=\"Open In Colab\"/></a>"
      ]
    },
    {
      "cell_type": "markdown",
      "metadata": {
        "id": "SCdTejS5-OYw"
      },
      "source": [
        "*Cette démonstration est inspirée du cours \"CS50’s Introduction to Artificial Intelligence with Python\" donné à l'Université d'Harvard.*\n",
        "https://cs50.harvard.edu/ai/2024/\n",
        "https://creativecommons.org/licenses/by-nc-sa/4.0/"
      ]
    },
    {
      "cell_type": "markdown",
      "metadata": {},
      "source": [
        "### Ce notebook a pour but d'introduire le concept clé des réseaux de neuronnes à convolution: la couche convolutive. On l'appelle aussi \"filtre\", ou \"carte d'activation\". Dans cette démonstration, vous apprendrez comment un simple filtre défini par une matrice peut être appliqué à une image pour en faire sortir des caractéristiques visuelles (features)."
      ]
    },
    {
      "cell_type": "markdown",
      "metadata": {},
      "source": [
        "Comme toujours, on commence par importer les librairies:"
      ]
    },
    {
      "cell_type": "code",
      "execution_count": null,
      "metadata": {
        "id": "6i5YbW8fjiRD"
      },
      "outputs": [],
      "source": [
        "import numpy as np\n",
        "from PIL import Image, ImageFilter\n",
        "import matplotlib.pyplot as plt\n",
        "from IPython.display import display"
      ]
    },
    {
      "cell_type": "markdown",
      "metadata": {
        "id": "V0_MishilwwY"
      },
      "source": [
        "On peut choisir une image sur laquelle nous effecturons notre expérience. Ci-dessous, l'image choisie est une de la faculté des sciences de l'UdeS."
      ]
    },
    {
      "cell_type": "code",
      "execution_count": null,
      "metadata": {
        "id": "mLAjFVcGjjJL"
      },
      "outputs": [],
      "source": [
        "!wget https://raw.githubusercontent.com/leochartrand/IFT615/main/CNN/image1.jpg\n",
        "image = Image.open('image1.jpg', 'r').convert(\"RGB\")\n",
        "display(image)"
      ]
    },
    {
      "cell_type": "markdown",
      "metadata": {},
      "source": [
        "Il est maintenant temps de créer notre filtre. Celui-ci est en réalité une simple matrice, qu'on peut définir à l'aide de NumPy, une librairie largement utilisée dans le monde de l'apprentissage machine. On peut utiliser matplotlib.pyplot afin de visualiser cette matrice."
      ]
    },
    {
      "cell_type": "code",
      "execution_count": null,
      "metadata": {
        "id": "hQ4uNti7k_nS"
      },
      "outputs": [],
      "source": [
        "# Déclaration de notre matrice filtre\n",
        "edge = np.array(\n",
        "    [[-1, -1, -1],\n",
        "     [-1, 8, -1],\n",
        "     [-1, -1, -1]])\n",
        "\n",
        "# Utiliser matplotlib pour visualiser le filtre\n",
        "plt.imshow(edge, cmap='gray'); plt.axis('off'); plt.show(); "
      ]
    },
    {
      "cell_type": "markdown",
      "metadata": {},
      "source": [
        "On peut alors appliquer notre filtre à l'image qu'on a choisie:"
      ]
    },
    {
      "cell_type": "code",
      "execution_count": null,
      "metadata": {
        "id": "dZuHV1Sgzb--"
      },
      "outputs": [],
      "source": [
        "filtre = edge # Vous pouvez inscrire ici le nom de variable de votre filtre personnalisé\n",
        "\n",
        "image_filtree = image.filter(ImageFilter.Kernel(\n",
        "    size=(3, 3),                # Spécification de la taille du filtre\n",
        "    kernel=filtre.flatten(),    # La méthode filter() de PIL.Image demande une matrice applanie\n",
        "    scale=1                     #\n",
        "))\n",
        "\n",
        "display(image_filtree)"
      ]
    },
    {
      "cell_type": "markdown",
      "metadata": {
        "id": "mjjpL0G-Cqda"
      },
      "source": [
        "Voici ci-dessous d'autres exemples de noyaux 3x3. Vous pouvez copier le code et créer votre propre filtre! Vous pouvez utiliser la méthode imshow() pour visualiser votre matrice. Sachez que cette dernière doit idéalement être normalisée afin que la somme de ses éléments donne 0."
      ]
    },
    {
      "cell_type": "code",
      "execution_count": null,
      "metadata": {
        "id": "8v0fxhJ2Co6h"
      },
      "outputs": [],
      "source": [
        "vertical = np.array(\n",
        "    [[-1, 2, -1],\n",
        "     [-1, 2, -1],\n",
        "     [-1, 2, -1]])\n",
        "plt.imshow(vertical, cmap='gray'); plt.axis('off'); plt.show();\n",
        "\n",
        "horizontal = np.array(\n",
        "    [[-1, -1, -1],\n",
        "     [2, 2, 2],\n",
        "     [-1, -1, -1]])\n",
        "plt.imshow(horizontal, cmap='gray'); plt.axis('off'); plt.show();"
      ]
    },
    {
      "cell_type": "markdown",
      "metadata": {},
      "source": [
        "En réalité, les filtres convolutifs ne sont pas définis manuellement. On définit seulement leur hyperparamètres (dimensions, quantité et quelques autres que nous ne couvriront pas ici). Les filtres sont initialisés avec une variété de valeurs pigées au hasard, qui s'ajusteront lors de l'apprentissage afin de faire émerger les filtres les plus adaptés pour détecter les caractéristiques visuelles. Dans la 2e démonstration, nous utiliserons un vrai réseau de neuronnes à convolution qui pourra apprendre ses propres filtres pour classifier des images."
      ]
    }
  ],
  "metadata": {
    "colab": {
      "include_colab_link": true,
      "provenance": []
    },
    "kernelspec": {
      "display_name": "Python 3",
      "name": "python3"
    },
    "language_info": {
      "codemirror_mode": {
        "name": "ipython",
        "version": 3
      },
      "file_extension": ".py",
      "mimetype": "text/x-python",
      "name": "python",
      "nbconvert_exporter": "python",
      "pygments_lexer": "ipython3",
      "version": "3.9.13"
    }
  },
  "nbformat": 4,
  "nbformat_minor": 0
}
