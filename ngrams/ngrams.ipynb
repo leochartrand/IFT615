{
  "nbformat": 4,
  "nbformat_minor": 0,
  "metadata": {
    "colab": {
      "provenance": [],
      "authorship_tag": "ABX9TyMlKNQVTaRuCEHu29yDy02M",
      "include_colab_link": true
    },
    "kernelspec": {
      "name": "python3",
      "display_name": "Python 3"
    },
    "language_info": {
      "name": "python"
    }
  },
  "cells": [
    {
      "cell_type": "markdown",
      "metadata": {
        "id": "view-in-github",
        "colab_type": "text"
      },
      "source": [
        "<a href=\"https://colab.research.google.com/github/leochartrand/IFT615/blob/main/ngrams/ngrams.ipynb\" target=\"_parent\"><img src=\"https://colab.research.google.com/assets/colab-badge.svg\" alt=\"Open In Colab\"/></a>"
      ]
    },
    {
      "cell_type": "markdown",
      "source": [
        "*Cette démonstration est tirée du cours \"CS50’s Introduction to Artificial Intelligence with Python\" donné à l'Université d'Harvard.*\n",
        "https://cs50.harvard.edu/ai/2024/\n",
        "https://creativecommons.org/licenses/by-nc-sa/4.0/"
      ],
      "metadata": {
        "id": "zqQ9m1w7p4X_"
      }
    },
    {
      "cell_type": "markdown",
      "source": [
        "Comme toujours, on commence par importer les librairies:"
      ],
      "metadata": {
        "id": "6efceZa_p_1k"
      }
    },
    {
      "cell_type": "code",
      "source": [
        "from collections import Counter\n",
        "\n",
        "import math\n",
        "import nltk\n",
        "import os\n",
        "import sys"
      ],
      "metadata": {
        "id": "TwvclC7Uh5VJ"
      },
      "execution_count": null,
      "outputs": []
    },
    {
      "cell_type": "code",
      "execution_count": null,
      "metadata": {
        "id": "yzQKIl5A2S96"
      },
      "outputs": [],
      "source": [
        "n = 3\n",
        "\n",
        "contents = []\n",
        "\n",
        "# Read all files and extract words\n",
        "for filename in os.listdir(directory):\n",
        "    with open(os.path.join(directory, filename)) as f:\n",
        "        contents.extend([\n",
        "            word.lower() for word in\n",
        "            nltk.word_tokenize(f.read())\n",
        "            if any(c.isalpha() for c in word)\n",
        "        ])\n",
        "corpus = contents\n",
        "\n",
        "# Compute n-grams\n",
        "ngrams = Counter(nltk.ngrams(corpus, n))\n",
        "\n",
        "# Print most common n-grams\n",
        "for ngram, freq in ngrams.most_common(10):\n",
        "    print(f\"{freq}: {ngram}\")\n"
      ]
    }
  ]
}