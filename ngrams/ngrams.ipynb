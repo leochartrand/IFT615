{
  "cells": [
    {
      "cell_type": "markdown",
      "metadata": {
        "colab_type": "text",
        "id": "view-in-github"
      },
      "source": [
        "<a href=\"https://colab.research.google.com/github/leochartrand/IFT615/blob/main/ngrams/ngrams.ipynb\" target=\"_parent\"><img src=\"https://colab.research.google.com/assets/colab-badge.svg\" alt=\"Open In Colab\"/></a>"
      ]
    },
    {
      "cell_type": "markdown",
      "metadata": {
        "id": "zqQ9m1w7p4X_"
      },
      "source": [
        "*Cette démonstration est tirée du cours \"CS50’s Introduction to Artificial Intelligence with Python\" donné à l'Université d'Harvard.*\n",
        "https://cs50.harvard.edu/ai/2024/\n",
        "https://creativecommons.org/licenses/by-nc-sa/4.0/"
      ]
    },
    {
      "cell_type": "markdown",
      "metadata": {
        "id": "6efceZa_p_1k"
      },
      "source": [
        "Comme toujours, on commence par importer les librairies:"
      ]
    },
    {
      "cell_type": "code",
      "execution_count": null,
      "metadata": {
        "id": "TwvclC7Uh5VJ"
      },
      "outputs": [],
      "source": [
        "from collections import Counter\n",
        "\n",
        "import math\n",
        "import nltk\n",
        "import os\n",
        "import sys\n",
        "nltk.download('punkt')"
      ]
    },
    {
      "cell_type": "markdown",
      "metadata": {},
      "source": [
        "Ici, le corpus d'entraînement pour cet exemple est un ensemble de textes de Sherlock Holmes:"
      ]
    },
    {
      "cell_type": "code",
      "execution_count": null,
      "metadata": {},
      "outputs": [],
      "source": [
        "!wget -P ./holmes/ https://raw.githubusercontent.com/leochartrand/IFT615/main/ngrams/holmes/bachelor.txt\n",
        "!wget -P ./holmes/ https://raw.githubusercontent.com/leochartrand/IFT615/main/ngrams/holmes/blaze.txt\n",
        "!wget -P ./holmes/ https://raw.githubusercontent.com/leochartrand/IFT615/main/ngrams/holmes/bohemia.txt\n",
        "!wget -P ./holmes/ https://raw.githubusercontent.com/leochartrand/IFT615/main/ngrams/holmes/boscombe.txt\n",
        "!wget -P ./holmes/ https://raw.githubusercontent.com/leochartrand/IFT615/main/ngrams/holmes/carbuncle.txt\n",
        "!wget -P ./holmes/ https://raw.githubusercontent.com/leochartrand/IFT615/main/ngrams/holmes/clerk.txt\n",
        "!wget -P ./holmes/ https://raw.githubusercontent.com/leochartrand/IFT615/main/ngrams/holmes/copper.txt\n",
        "!wget -P ./holmes/ https://raw.githubusercontent.com/leochartrand/IFT615/main/ngrams/holmes/coronet.txt\n",
        "!wget -P ./holmes/ https://raw.githubusercontent.com/leochartrand/IFT615/main/ngrams/holmes/crooked.txt\n",
        "!wget -P ./holmes/ https://raw.githubusercontent.com/leochartrand/IFT615/main/ngrams/holmes/engineer.txt\n",
        "!wget -P ./holmes/ https://raw.githubusercontent.com/leochartrand/IFT615/main/ngrams/holmes/face.txt\n",
        "!wget -P ./holmes/ https://raw.githubusercontent.com/leochartrand/IFT615/main/ngrams/holmes/gloria_scott.txt\n",
        "!wget -P ./holmes/ https://raw.githubusercontent.com/leochartrand/IFT615/main/ngrams/holmes/interpreter.txt\n",
        "!wget -P ./holmes/ https://raw.githubusercontent.com/leochartrand/IFT615/main/ngrams/holmes/league.txt\n",
        "!wget -P ./holmes/ https://raw.githubusercontent.com/leochartrand/IFT615/main/ngrams/holmes/patient.txt\n",
        "!wget -P ./holmes/ https://raw.githubusercontent.com/leochartrand/IFT615/main/ngrams/holmes/problem.txt\n",
        "!wget -P ./holmes/ https://raw.githubusercontent.com/leochartrand/IFT615/main/ngrams/holmes/ritual.txt\n",
        "!wget -P ./holmes/ https://raw.githubusercontent.com/leochartrand/IFT615/main/ngrams/holmes/speckled.txt\n",
        "!wget -P ./holmes/ https://raw.githubusercontent.com/leochartrand/IFT615/main/ngrams/holmes/squires.txt\n",
        "!wget -P ./holmes/ https://raw.githubusercontent.com/leochartrand/IFT615/main/ngrams/holmes/treaty.txt\n",
        "!wget -P ./holmes/ https://raw.githubusercontent.com/leochartrand/IFT615/main/ngrams/holmes/twisted.txt"
      ]
    },
    {
      "cell_type": "markdown",
      "metadata": {},
      "source": [
        "On peut maintenant extraire de ces fichier tous les mots du corpus et les jetoniser:"
      ]
    },
    {
      "cell_type": "code",
      "execution_count": null,
      "metadata": {
        "id": "yzQKIl5A2S96"
      },
      "outputs": [],
      "source": [
        "corpus = []\n",
        "\n",
        "directory = \"./holmes/\"\n",
        "\n",
        "# Read all files and extract words\n",
        "for filename in os.listdir(directory):\n",
        "    with open(os.path.join(directory, filename)) as f:\n",
        "        corpus.extend([\n",
        "            word.lower() for word in\n",
        "            nltk.word_tokenize(f.read())\n",
        "            if any(c.isalpha() for c in word)\n",
        "        ])"
      ]
    },
    {
      "cell_type": "markdown",
      "metadata": {},
      "source": [
        "Calculons les N-grams!"
      ]
    },
    {
      "cell_type": "code",
      "execution_count": null,
      "metadata": {},
      "outputs": [],
      "source": [
        "# Taille du n-gram\n",
        "n = 3\n",
        "\n",
        "# Calculer les n-grams\n",
        "ngrams = Counter(nltk.ngrams(corpus, n))\n",
        "\n",
        "# Imprimer les 10 n-grams les plus communs\n",
        "for ngram, freq in ngrams.most_common(10):\n",
        "    print(f\"{freq}: {ngram}\")"
      ]
    }
  ],
  "metadata": {
    "colab": {
      "authorship_tag": "ABX9TyMlKNQVTaRuCEHu29yDy02M",
      "include_colab_link": true,
      "provenance": []
    },
    "kernelspec": {
      "display_name": "Python 3",
      "name": "python3"
    },
    "language_info": {
      "codemirror_mode": {
        "name": "ipython",
        "version": 3
      },
      "file_extension": ".py",
      "mimetype": "text/x-python",
      "name": "python",
      "nbconvert_exporter": "python",
      "pygments_lexer": "ipython3",
      "version": "3.9.13"
    }
  },
  "nbformat": 4,
  "nbformat_minor": 0
}
