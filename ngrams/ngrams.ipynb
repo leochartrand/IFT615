{
  "cells": [
    {
      "cell_type": "markdown",
      "metadata": {
        "colab_type": "text",
        "id": "view-in-github"
      },
      "source": [
        "<a href=\"https://colab.research.google.com/github/leochartrand/IFT615/blob/main/ngrams/ngrams.ipynb\" target=\"_parent\"><img src=\"https://colab.research.google.com/assets/colab-badge.svg\" alt=\"Open In Colab\"/></a>"
      ]
    },
    {
      "cell_type": "markdown",
      "metadata": {
        "id": "zqQ9m1w7p4X_"
      },
      "source": [
        "*Cette démonstration est tirée du cours \"CS50’s Introduction to Artificial Intelligence with Python\" donné à l'Université d'Harvard.*\n",
        "https://cs50.harvard.edu/ai/2024/\n",
        "https://creativecommons.org/licenses/by-nc-sa/4.0/"
      ]
    },
    {
      "cell_type": "markdown",
      "metadata": {
        "id": "6efceZa_p_1k"
      },
      "source": [
        "Comme toujours, on commence par importer les librairies:"
      ]
    },
    {
      "cell_type": "code",
      "execution_count": 1,
      "metadata": {
        "id": "TwvclC7Uh5VJ"
      },
      "outputs": [],
      "source": [
        "from collections import Counter\n",
        "\n",
        "import math\n",
        "import nltk\n",
        "import os\n",
        "import sys"
      ]
    },
    {
      "cell_type": "code",
      "execution_count": null,
      "metadata": {
        "id": "yzQKIl5A2S96"
      },
      "outputs": [],
      "source": [
        "n = 3\n",
        "\n",
        "corpus = []\n",
        "\n",
        "directory = \"./holmes/\"\n",
        "\n",
        "# Read all files and extract words\n",
        "for filename in os.listdir(directory):\n",
        "    with open(os.path.join(directory, filename)) as f:\n",
        "        corpus.extend([\n",
        "            word.lower() for word in\n",
        "            nltk.word_tokenize(f.read())\n",
        "            if any(c.isalpha() for c in word)\n",
        "        ])\n",
        "\n",
        "# Compute n-grams\n",
        "ngrams = Counter(nltk.ngrams(corpus, n))\n",
        "\n",
        "# Print most common n-grams\n",
        "for ngram, freq in ngrams.most_common(10):\n",
        "    print(f\"{freq}: {ngram}\")\n"
      ]
    }
  ],
  "metadata": {
    "colab": {
      "authorship_tag": "ABX9TyMlKNQVTaRuCEHu29yDy02M",
      "include_colab_link": true,
      "provenance": []
    },
    "kernelspec": {
      "display_name": "Python 3",
      "name": "python3"
    },
    "language_info": {
      "codemirror_mode": {
        "name": "ipython",
        "version": 3
      },
      "file_extension": ".py",
      "mimetype": "text/x-python",
      "name": "python",
      "nbconvert_exporter": "python",
      "pygments_lexer": "ipython3",
      "version": "3.9.13"
    }
  },
  "nbformat": 4,
  "nbformat_minor": 0
}
